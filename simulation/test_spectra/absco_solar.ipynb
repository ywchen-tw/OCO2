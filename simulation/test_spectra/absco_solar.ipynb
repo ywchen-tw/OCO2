{
 "cells": [
  {
   "cell_type": "code",
   "execution_count": 3,
   "id": "69113e0a",
   "metadata": {},
   "outputs": [],
   "source": [
    "import sys\n",
    "sys.path.append('/Users/yuch8913/miniforge3/envs/er3t_env/lib/python3.8/site-packages')\n",
    "import pandas as pd\n",
    "import h5py\n",
    "import matplotlib.pyplot as plt\n",
    "import matplotlib.image as mpimg\n",
    "import matplotlib\n",
    "from glob import glob\n",
    "import numpy as np\n",
    "from sys import exit as ext\n",
    "import copy\n",
    "from bisect import bisect_left\n",
    "\n",
    "from matplotlib import cm\n",
    "from scipy.interpolate import interpn\n",
    "from scipy import stats\n",
    "import geopy.distance\n",
    "import xarray as xr\n",
    "import seaborn as sns\n",
    "\n",
    "%matplotlib inline\n",
    "import os, pickle \n",
    "#\"\"\"\n",
    "\n",
    "from matplotlib import font_manager\n",
    "\n",
    "font_path = '/System/Library/Fonts/Supplemental/Arial.ttf'  # Your font path goes here\n",
    "font_manager.fontManager.addfont(font_path)\n",
    "prop = font_manager.FontProperties(fname=font_path)\n",
    "\n",
    "plt.rcParams['font.family'] = 'sans-serif'\n",
    "plt.rcParams['font.sans-serif'] = prop.get_name()\n",
    "#\"\"\"\n",
    "\n",
    "import warnings\n",
    "warnings.filterwarnings(\"ignore\")"
   ]
  },
  {
   "cell_type": "code",
   "execution_count": 6,
   "id": "3e12d43c",
   "metadata": {},
   "outputs": [],
   "source": [
    "absco_file = '../data/20181018_central_asia_2_470cloud_test2_20181018/atm_abs_o2a_11.h5'\n",
    "absco_data = h5py.File(absco_file, 'r')"
   ]
  },
  {
   "cell_type": "code",
   "execution_count": 7,
   "id": "c1e8cc3b",
   "metadata": {},
   "outputs": [],
   "source": [
    "zpt_file = '../data/20181018_central_asia_2_470cloud_test2_20181018/zpt.h5'\n",
    "zpt_data = h5py.File(zpt_file, 'r')"
   ]
  },
  {
   "cell_type": "code",
   "execution_count": 9,
   "id": "c7eba827",
   "metadata": {},
   "outputs": [
    {
     "data": {
      "text/plain": [
       "<KeysViewHDF5 ['d_co2_lay', 'd_h2o_lay', 'd_o2_lay', 'dz', 'h2o_vmr', 'h_edge', 'h_lay', 'p_edge', 'p_lay', 't_edge', 't_lay', 'u_lay', 'v_lay']>"
      ]
     },
     "execution_count": 9,
     "metadata": {},
     "output_type": "execute_result"
    }
   ],
   "source": [
    "zpt_data.keys()"
   ]
  },
  {
   "cell_type": "code",
   "execution_count": 18,
   "id": "01156bad",
   "metadata": {},
   "outputs": [
    {
     "data": {
      "text/plain": [
       "<KeysViewHDF5 ['absgl', 'absgn', 'absgx', 'absgy', 'atm_dz', 'atm_p', 'atm_pi', 'atm_temp', 'atm_zgrd', 'ils0', 'lamx', 'lay', 'solx', 'trns_oco', 'tx', 'unit_T', 'unit_abs', 'unit_l', 'unit_p', 'unit_z', 'wl_oco']>"
      ]
     },
     "execution_count": 18,
     "metadata": {},
     "output_type": "execute_result"
    }
   ],
   "source": [
    "absco_data.keys()"
   ]
  },
  {
   "cell_type": "code",
   "execution_count": 14,
   "id": "34958b55",
   "metadata": {},
   "outputs": [],
   "source": [
    "def solar(file, val=None):\n",
    "    \"\"\"\n",
    "    # to solve: kurudz.dat and val?\n",
    "    \"\"\"\n",
    "    h = 6.62607004e-34\n",
    "    c = 299792458.\n",
    "    hc = h*c\n",
    "    if val != None > 0:\n",
    "        v=1\n",
    "    else:\n",
    "        v=0\n",
    "\n",
    "    with open(file, 'r') as fp:\n",
    "        for count, line in enumerate(fp):\n",
    "            if v == 1 and count+1 < 7:\n",
    "                print(line)\n",
    "            else:\n",
    "                pass\n",
    "\n",
    "    # the setting is specific to the assigned solar.txt filw\n",
    "    data = pd.read_csv(file, skiprows=6, header=None, sep='     ', engine='python')\n",
    "    data['Wavenumber'] = data[0].astype(float)\n",
    "    data['Irradiance'] = data[1].astype(float)\n",
    "    wn = np.array(data['Wavenumber'])\n",
    "    ss = np.array(data['Irradiance']) # photons/sec/m2/micron\n",
    "    sx = 1e-1*hc*wn*ss # W/m2/nm\n",
    "    wl = 1.0e4/wn # convert wavenumer to wavelength in micron    \n",
    "\n",
    "    return wl[::-1], sx[::-1]"
   ]
  },
  {
   "cell_type": "code",
   "execution_count": 15,
   "id": "ad9394e7",
   "metadata": {},
   "outputs": [],
   "source": [
    "solar_wl, solar_rad = solar('../oco_subroutine/abs/sol/solar.txt')"
   ]
  },
  {
   "cell_type": "code",
   "execution_count": 17,
   "id": "27320353",
   "metadata": {},
   "outputs": [
    {
     "data": {
      "text/plain": [
       "array([1.29031317, 1.29015437, 1.28996924, ..., 0.09853536, 0.0985353 ,\n",
       "       0.09853526])"
      ]
     },
     "execution_count": 17,
     "metadata": {},
     "output_type": "execute_result"
    }
   ],
   "source": [
    "solar_rad"
   ]
  },
  {
   "cell_type": "code",
   "execution_count": 19,
   "id": "18d3bbd3",
   "metadata": {},
   "outputs": [
    {
     "data": {
      "text/plain": [
       "(29, 11, 137)"
      ]
     },
     "execution_count": 19,
     "metadata": {},
     "output_type": "execute_result"
    }
   ],
   "source": [
    "absco_data['absgl'][...].shape"
   ]
  },
  {
   "cell_type": "code",
   "execution_count": null,
   "id": "b6f36570",
   "metadata": {},
   "outputs": [],
   "source": [
    "# clear sky\n",
    "\n",
    "for zn in range()"
   ]
  }
 ],
 "metadata": {
  "kernelspec": {
   "display_name": "Python 3 (ipykernel)",
   "language": "python",
   "name": "python3"
  },
  "language_info": {
   "codemirror_mode": {
    "name": "ipython",
    "version": 3
   },
   "file_extension": ".py",
   "mimetype": "text/x-python",
   "name": "python",
   "nbconvert_exporter": "python",
   "pygments_lexer": "ipython3",
   "version": "3.8.13"
  }
 },
 "nbformat": 4,
 "nbformat_minor": 5
}
