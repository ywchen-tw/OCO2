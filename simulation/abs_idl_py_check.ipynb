{
 "cells": [
  {
   "cell_type": "code",
   "execution_count": 41,
   "id": "12a85263",
   "metadata": {},
   "outputs": [],
   "source": [
    "import h5py\n",
    "from scipy.io import readsav\n",
    "import copy\n",
    "import numpy as np\n",
    "import matplotlib.pyplot as plt"
   ]
  },
  {
   "cell_type": "code",
   "execution_count": 5,
   "id": "05aab29a",
   "metadata": {},
   "outputs": [
    {
     "name": "stdout",
     "output_type": "stream",
     "text": [
      "[760.75385 761.3926  760.29016 761.37634 759.68756 761.34375 766.2888\n",
      " 763.53906 768.5151  772.5164  760.2401 ]\n"
     ]
    }
   ],
   "source": [
    "f = readsav('data/atm_abs_o2a_11.h5'.replace('h5', 'out'))\n",
    "\n",
    "wvl_center_oco = f.lamx*1000.0\n",
    "print(wvl_center_oco)\n",
    "\n",
    "wvl = wvl_center_oco[2]+0.000001\n",
    "\n",
    "wvl_threshold = 1\n",
    "index_wvl = np.argmin(np.abs(wvl_center_oco-wvl))\n",
    "\n",
    "if abs(wvl_center_oco[index_wvl]-wvl) >= wvl_threshold:\n",
    "    sys.exit('Error   [abs_oco_idl]: Cannot pick a close wavelength for %.2fnm from \\'%s\\'.' % (self.wvl, self.fname_idl))\n",
    "else:\n",
    "    wvl = wvl_center_oco[index_wvl]\n",
    "\n",
    "Ng        = f.absgn[index_wvl]\n",
    "wvls      = f.absgx[:Ng, index_wvl] * 1000.0\n",
    "abso_coef = f.absgl[:Ng, index_wvl, :]\n",
    "\n",
    "slit_func0     = f.absgy[:Ng, index_wvl]\n",
    "slit_func      = np.empty(abso_coef.shape, dtype=slit_func0.dtype)\n",
    "slit_func[...] = slit_func0[:, None]\n",
    "\n",
    "solar     = f.solx[:Ng, index_wvl]\n",
    "\n",
    "\n",
    "\n",
    "weight    = slit_func0/slit_func0.sum()\n",
    "#self.Ng   = Ng\n",
    "nwl  = wvls.size\n",
    "coef = {\n",
    "        'wvl'       : {'name':'Wavelength'                     , 'data':wvl, 'units':'nm'},\n",
    "        'abso_coef' : {'name':'Absorption Coefficient (Nz, Ng)', 'data':np.transpose(abso_coef)},\n",
    "        'slit_func' : {'name':'Slit Function (Nz, Ng)'         , 'data':np.transpose(slit_func)},\n",
    "        'solar'     : {'name':'Solar Factor (Ng)'              , 'data':solar},\n",
    "        'weight'    : {'name':'Weight (Ng)'                    , 'data':weight}\n",
    "             }"
   ]
  },
  {
   "cell_type": "code",
   "execution_count": 123,
   "id": "1e02856e",
   "metadata": {},
   "outputs": [
    {
     "name": "stdout",
     "output_type": "stream",
     "text": [
      "[760.40641733 761.39259413 759.97292515 763.77135061 760.32334202\n",
      " 763.08641377 762.72414042 766.83669774 764.41522664 772.51646071\n",
      " 760.24012927]\n"
     ]
    }
   ],
   "source": [
    "f = h5py.File('data/atm_abs_o2a_11.h5', 'r')\n",
    "\n",
    "wvl_center_oco = f['lamx'][...]*1000.0\n",
    "\n",
    "print(wvl_center_oco)\n",
    "\n",
    "wvl = wvl_center_oco[2]+0.000001\n",
    "\n",
    "wvl_threshold = 1\n",
    "\n",
    "index_wvl = np.argmin(np.abs(wvl_center_oco-wvl))\n",
    "\n",
    "wvl = wvl_center_oco[index_wvl]\n",
    "\n",
    "Ng_h5       = f['absgn'][...][index_wvl]\n",
    "wvls_h5      = f['absgx'][...][index_wvl, :Ng_h5].T * 1000.0\n",
    "abso_coef_h5 = f['absgl'][...][:, index_wvl, :Ng_h5].T\n",
    "\n",
    "slit_func0_h5     = f['absgy'][...][index_wvl, :Ng].T\n",
    "slit_func_h5      = np.empty(abso_coef.shape, dtype=slit_func0.dtype)\n",
    "slit_func_h5[...] = slit_func0[:, None]\n",
    "\n",
    "solar_h5     = f['solx'][index_wvl, :Ng].T\n",
    "\n",
    "\n",
    "\n",
    "weight_h5    = slit_func0_h5/slit_func0_h5.sum()\n",
    "#self.Ng   = Ng\n",
    "nwl_h5  = wvls_h5.size\n",
    "coef_h5 = {\n",
    "        'wvl'       : {'name':'Wavelength'                     , 'data':wvl, 'units':'nm'},\n",
    "        'abso_coef' : {'name':'Absorption Coefficient (Nz, Ng)', 'data':np.transpose(abso_coef)},\n",
    "        'slit_func' : {'name':'Slit Function (Nz, Ng)'         , 'data':np.transpose(slit_func)},\n",
    "        'solar'     : {'name':'Solar Factor (Ng)'              , 'data':solar},\n",
    "        'weight'    : {'name':'Weight (Ng)'                    , 'data':weight}\n",
    "             }"
   ]
  },
  {
   "cell_type": "code",
   "execution_count": 59,
   "id": "791628a4",
   "metadata": {},
   "outputs": [
    {
     "data": {
      "text/plain": [
       "(126, 29)"
      ]
     },
     "execution_count": 59,
     "metadata": {},
     "output_type": "execute_result"
    }
   ],
   "source": [
    "abso_coef.shape"
   ]
  },
  {
   "cell_type": "code",
   "execution_count": 58,
   "id": "3c4dd153",
   "metadata": {},
   "outputs": [
    {
     "data": {
      "text/plain": [
       "(137, 29)"
      ]
     },
     "execution_count": 58,
     "metadata": {},
     "output_type": "execute_result"
    }
   ],
   "source": [
    "abso_coef_h5.shape"
   ]
  },
  {
   "cell_type": "code",
   "execution_count": 31,
   "id": "460dd31f",
   "metadata": {},
   "outputs": [
    {
     "name": "stdout",
     "output_type": "stream",
     "text": [
      "126 137\n"
     ]
    }
   ],
   "source": [
    "print(Ng, Ng_h5)"
   ]
  },
  {
   "cell_type": "code",
   "execution_count": 46,
   "id": "c8bf267a",
   "metadata": {},
   "outputs": [
    {
     "data": {
      "text/plain": [
       "1.6641026495325663e-06"
      ]
     },
     "execution_count": 46,
     "metadata": {},
     "output_type": "execute_result"
    }
   ],
   "source": [
    "abso_coef_h5.min()"
   ]
  },
  {
   "cell_type": "code",
   "execution_count": 47,
   "id": "875eaa73",
   "metadata": {},
   "outputs": [
    {
     "data": {
      "text/plain": [
       "13.982582161776566"
      ]
     },
     "execution_count": 47,
     "metadata": {},
     "output_type": "execute_result"
    }
   ],
   "source": [
    "abso_coef_h5.max()"
   ]
  },
  {
   "cell_type": "code",
   "execution_count": 43,
   "id": "05fa6207",
   "metadata": {},
   "outputs": [
    {
     "data": {
      "text/plain": [
       "(126, 29)"
      ]
     },
     "execution_count": 43,
     "metadata": {},
     "output_type": "execute_result"
    }
   ],
   "source": [
    "abso_coef.shape"
   ]
  },
  {
   "cell_type": "code",
   "execution_count": 94,
   "id": "bfde63e0",
   "metadata": {},
   "outputs": [
    {
     "data": {
      "text/plain": [
       "<matplotlib.legend.Legend at 0x1671e06a0>"
      ]
     },
     "execution_count": 94,
     "metadata": {},
     "output_type": "execute_result"
    },
    {
     "data": {
      "image/png": "[encoded data removed]",
      "text/plain": [
       "<Figure size 640x480 with 1 Axes>"
      ]
     },
     "metadata": {},
     "output_type": "display_data"
    }
   ],
   "source": [
    "z = 2\n",
    "plt.hist(abso_coef[:, z], label='idl', alpha=0.5, bins=15)\n",
    "plt.hist(abso_coef_h5[:, z], label='py', alpha=0.5, bins=15)\n",
    "plt.legend()"
   ]
  },
  {
   "cell_type": "code",
   "execution_count": 50,
   "id": "e09685c8",
   "metadata": {},
   "outputs": [
    {
     "name": "stdout",
     "output_type": "stream",
     "text": [
      "1.074014 0.7882085649205333\n"
     ]
    }
   ],
   "source": [
    "print(abso_coef.mean(), abso_coef_h5.mean())"
   ]
  },
  {
   "cell_type": "code",
   "execution_count": 51,
   "id": "5881da52",
   "metadata": {},
   "outputs": [
    {
     "name": "stdout",
     "output_type": "stream",
     "text": [
      "1.246485 1.2760840592373575\n"
     ]
    }
   ],
   "source": [
    "print(solar.mean(), solar_h5.mean())"
   ]
  },
  {
   "cell_type": "code",
   "execution_count": 52,
   "id": "b01e87da",
   "metadata": {},
   "outputs": [
    {
     "name": "stdout",
     "output_type": "stream",
     "text": [
      "0.007936509 0.007936507936507936\n"
     ]
    }
   ],
   "source": [
    "print(weight.mean(), weight_h5.mean())"
   ]
  },
  {
   "cell_type": "code",
   "execution_count": 53,
   "id": "522b423e",
   "metadata": {},
   "outputs": [
    {
     "name": "stdout",
     "output_type": "stream",
     "text": [
      "126 137\n"
     ]
    }
   ],
   "source": [
    "print(nwl, nwl_h5)"
   ]
  },
  {
   "cell_type": "code",
   "execution_count": 56,
   "id": "682fef46",
   "metadata": {},
   "outputs": [
    {
     "name": "stdout",
     "output_type": "stream",
     "text": [
      "0.5278127 0.5278127\n"
     ]
    }
   ],
   "source": [
    "print(slit_func.mean(), slit_func_h5.mean())"
   ]
  },
  {
   "cell_type": "code",
   "execution_count": 125,
   "id": "a27fc8de",
   "metadata": {},
   "outputs": [
    {
     "data": {
      "text/plain": [
       "[<matplotlib.lines.Line2D at 0x167975a00>]"
      ]
     },
     "execution_count": 125,
     "metadata": {},
     "output_type": "execute_result"
    },
    {
     "data": {
      "image/png": "[encoded data removed]",
      "text/plain": [
       "<Figure size 640x480 with 1 Axes>"
      ]
     },
     "metadata": {},
     "output_type": "display_data"
    }
   ],
   "source": [
    "plt.plot(solar)\n",
    "plt.plot(solar_h5)"
   ]
  },
  {
   "cell_type": "code",
   "execution_count": 100,
   "id": "9bfa7da2",
   "metadata": {},
   "outputs": [
    {
     "data": {
      "text/plain": [
       "(126,)"
      ]
     },
     "execution_count": 100,
     "metadata": {},
     "output_type": "execute_result"
    }
   ],
   "source": [
    "solar.shape"
   ]
  },
  {
   "cell_type": "code",
   "execution_count": 132,
   "id": "d5bf33bc",
   "metadata": {},
   "outputs": [
    {
     "data": {
      "text/plain": [
       "[<matplotlib.lines.Line2D at 0x167c33af0>]"
      ]
     },
     "execution_count": 132,
     "metadata": {},
     "output_type": "execute_result"
    },
    {
     "data": {
      "image/png": "[encoded data removed]",
      "text/plain": [
       "<Figure size 640x480 with 1 Axes>"
      ]
     },
     "metadata": {},
     "output_type": "display_data"
    }
   ],
   "source": [
    "plt.plot(f['solx'][8, :])"
   ]
  },
  {
   "cell_type": "code",
   "execution_count": 122,
   "id": "12b37222",
   "metadata": {},
   "outputs": [
    {
     "data": {
      "text/plain": [
       "array([1.27717193, 1.27714677, 1.27712162, 1.27712259, 1.27709744,\n",
       "       1.27707228, 1.27704713, 1.27702198, 1.27699682, 1.27697167,\n",
       "       1.27694651, 1.27692136, 1.2768962 , 1.27684492, 1.27681977,\n",
       "       1.27679462, 1.27676946, 1.27674431, 1.27669303, 1.27666787,\n",
       "       1.27661929, 1.27659144, 1.27656454, 1.276515  , 1.27646895,\n",
       "       1.27643857, 1.27638729, 1.27633601, 1.27631085, 1.27625957,\n",
       "       1.27620742, 1.27615431, 1.27610573, 1.27605445, 1.27597704,\n",
       "       1.27592576, 1.27587448, 1.27579887, 1.27574579, 1.27566838,\n",
       "       1.27561275, 1.27553969, 1.27546229, 1.27538226, 1.27530197,\n",
       "       1.27520664, 1.2751274 , 1.27504738, 1.27494198, 1.27484728,\n",
       "       1.27473989, 1.27463361, 1.274521  , 1.27440539, 1.27427561,\n",
       "       1.27414159, 1.2740101 , 1.27388864, 1.27373258, 1.27357156,\n",
       "       1.27340794, 1.27326434, 1.27307987, 1.27287003, 1.27268451,\n",
       "       1.27247136, 1.27225374, 1.27201173, 1.27176972, 1.27148014,\n",
       "       1.27123625, 1.2709209 , 1.27060051, 1.27025625, 1.26992316,\n",
       "       1.26951683, 1.26908877, 1.26862496, 1.26819618, 1.26766891,\n",
       "       1.26708203, 1.26647022, 1.26587273, 1.26517158, 1.26439919,\n",
       "       1.26355887, 1.26276384, 1.26183175, 1.2608498 , 1.2598138 ,\n",
       "       1.25871803, 1.25773053, 1.25662109, 1.25552472, 1.25445722,\n",
       "       1.25356531, 1.25268672, 1.25191258, 1.25130504, 1.25087463,\n",
       "       1.25057003, 1.25043622, 1.2504699 , 1.25064131, 1.25095602,\n",
       "       1.25138546, 1.25189285, 1.25239596, 1.25296552, 1.25355433,\n",
       "       1.25409742, 1.25455342, 1.25498698, 1.25530867, 1.25554837,\n",
       "       1.25568071, 1.25570344, 1.25562601, 1.25541011, 1.25505725,\n",
       "       1.25462342, 1.25398903, 1.253187  , 1.25222527, 1.25119626,\n",
       "       1.24982648, 1.24824465, 1.24639165, 1.24450349, 1.24211908,\n",
       "       1.23938969, 1.23632839, 1.2332476 , 1.22940393, 1.22520354,\n",
       "       1.2205642 , 0.        ])"
      ]
     },
     "execution_count": 122,
     "metadata": {},
     "output_type": "execute_result"
    }
   ],
   "source": [
    "f['solx'][4, :]"
   ]
  },
  {
   "cell_type": "code",
   "execution_count": 133,
   "id": "1658bbe6",
   "metadata": {},
   "outputs": [
    {
     "data": {
      "text/plain": [
       "array([0.14510538, 0.24012792, 0.33432227, 0.4305932 , 0.52538131,\n",
       "       0.61919512, 0.71610982, 0.8117753 , 0.90546069, 0.99986708,\n",
       "       0.05082127])"
      ]
     },
     "execution_count": 133,
     "metadata": {},
     "output_type": "execute_result"
    }
   ],
   "source": [
    "f['tx'][...]"
   ]
  },
  {
   "cell_type": "code",
   "execution_count": null,
   "id": "328493d7",
   "metadata": {},
   "outputs": [],
   "source": []
  }
 ],
 "metadata": {
  "kernelspec": {
   "display_name": "Python 3 (ipykernel)",
   "language": "python",
   "name": "python3"
  },
  "language_info": {
   "codemirror_mode": {
    "name": "ipython",
    "version": 3
   },
   "file_extension": ".py",
   "mimetype": "text/x-python",
   "name": "python",
   "nbconvert_exporter": "python",
   "pygments_lexer": "ipython3",
   "version": "3.8.13"
  }
 },
 "nbformat": 4,
 "nbformat_minor": 5
}
